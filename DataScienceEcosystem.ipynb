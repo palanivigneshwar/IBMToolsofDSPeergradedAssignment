{
  "metadata": {
    "language_info": {
      "codemirror_mode": {
        "name": "python",
        "version": 3
      },
      "file_extension": ".py",
      "mimetype": "text/x-python",
      "name": "python",
      "nbconvert_exporter": "python",
      "pygments_lexer": "ipython3",
      "version": "3.8"
    },
    "kernelspec": {
      "name": "python",
      "display_name": "Python (Pyodide)",
      "language": "python"
    }
  },
  "nbformat_minor": 4,
  "nbformat": 4,
  "cells": [
    {
      "cell_type": "markdown",
      "source": "**Exercise 2 - Create a markdown cell with the title of the notebook. (1 pt)**",
      "metadata": {}
    },
    {
      "cell_type": "markdown",
      "source": "**<h1>Data Science Tools and Ecosystem</h1>**",
      "metadata": {}
    },
    {
      "cell_type": "markdown",
      "source": "**Exercise 3 - Create a markdown cell for an introduction. (1 pt)**",
      "metadata": {}
    },
    {
      "cell_type": "markdown",
      "source": "In this notebook, Data Science Tools and Ecosystem are summarized.",
      "metadata": {}
    },
    {
      "cell_type": "markdown",
      "source": "**Exercise 4 - Create a markdown cell to list data science languages. (3 pts)**",
      "metadata": {}
    },
    {
      "cell_type": "markdown",
      "source": "**Some of the popular languages that Data Scientists use are:**\n<ol>\n    <li> Python </li>\n    <li> R </li>\n    <li> SQL</li>\n    <li>Julia</li>\n    <li> Scala </li>\n    <li> Java </li>\n    <li> MATLAB </li>\n</ol>",
      "metadata": {}
    },
    {
      "cell_type": "markdown",
      "source": "**Exercise 5 - Create a markdown cell to list data science libraries. (3 pts)**",
      "metadata": {}
    },
    {
      "cell_type": "markdown",
      "source": "**List data science libraries**\n<ol>\n    <li> NumPy </li>\n    <li> Pandas </li>\n    <li> Matplotlib </li>\n    <li> Seaborn </li>\n    <li> Scikit-learn(sklearn) </li>\n    <li> Tensorflow </li>\n    <li> Keras </li>\n    <li> Pytorch </li>\n    <li> NLTK </li>\n    <li> XGBOOST </li>\n</ol>    ",
      "metadata": {}
    },
    {
      "cell_type": "markdown",
      "source": "**Exercise 6 - Create a markdown cell with a table of Data Science tools. (3 pts)**",
      "metadata": {}
    },
    {
      "cell_type": "markdown",
      "source": "<table style=\"width:100%\">\n  <tr>\n    <th>Data Science Tools</th>\n    </tr>\n  <tr>\n    <td>Jupyter Notebook</td>\n  </tr>\n  <tr>\n    <td>Google Colab</td>\n    </tr>\n  <tr>\n    <td>Anaconda</td>\n  </tr>\n</table>",
      "metadata": {}
    },
    {
      "cell_type": "markdown",
      "source": "**Exercise 7 - Create a markdown cell introducing arithmetic expression examples. (1 pt)**",
      "metadata": {}
    },
    {
      "cell_type": "markdown",
      "source": "Below are a few examples of evaluating arithmetic expressions in Python",
      "metadata": {}
    },
    {
      "cell_type": "code",
      "source": "print(\"Multiplication(5,3): \"+str(5*3))\nprint(\"Addition(5,3): \"+str(5+3))\nprint(\"Divide(5,3): \"+str(5/3))\nprint(\"Subtraction(5,3): \"+str(5-3))",
      "metadata": {
        "trusted": true
      },
      "execution_count": 28,
      "outputs": [
        {
          "name": "stdout",
          "text": "Multiplication(5,3): 15\nAddition(5,3): 8\nDivide(5,3): 1.6666666666666667\nSubtraction(5,3): 2\n",
          "output_type": "stream"
        }
      ]
    },
    {
      "cell_type": "markdown",
      "source": "**Exercise 8 - Create a code cell to multiply and add numbers. (2 pts)**",
      "metadata": {}
    },
    {
      "cell_type": "markdown",
      "source": "This a simple arithmetic expression to mutiply then add integers",
      "metadata": {}
    },
    {
      "cell_type": "code",
      "source": "(3*4)+5",
      "metadata": {
        "trusted": true
      },
      "execution_count": 32,
      "outputs": [
        {
          "execution_count": 32,
          "output_type": "execute_result",
          "data": {
            "text/plain": "17"
          },
          "metadata": {}
        }
      ]
    },
    {
      "cell_type": "markdown",
      "source": "**Exercise 9 - Create a code cell to convert minutes to hours. (2 pts)**",
      "metadata": {}
    },
    {
      "cell_type": "markdown",
      "source": "This will convert 200 minutes to hours by diving by 60",
      "metadata": {}
    },
    {
      "cell_type": "code",
      "source": "mins = 200\nhrs = mins / 60\nprint(f\"{mins} minutes is equal to {hrs} hours.\")",
      "metadata": {
        "trusted": true
      },
      "execution_count": 34,
      "outputs": [
        {
          "name": "stdout",
          "text": "200 minutes is equal to 3.3333333333333335 hours.\n",
          "output_type": "stream"
        }
      ]
    },
    {
      "cell_type": "markdown",
      "source": "**Exercise 10 -Insert a markdown cell to list Objectives. (3 pts)**",
      "metadata": {}
    },
    {
      "cell_type": "markdown",
      "source": "<strong>Objectives:</strong> \n<ul>\n    <li> List popular languages that Data Scientists use. </li>\n    <li> List commonly used libraries used by Data Scientists. </li>\n    <li> List tools used by Data Scientists. </li>\n    <li> Show Airthematic operations. </li>\n</ul>",
      "metadata": {}
    },
    {
      "cell_type": "markdown",
      "source": "**Exercise 11 - Create a markdown cell to indicate the Author’s name. (2 pts)**",
      "metadata": {}
    },
    {
      "cell_type": "markdown",
      "source": "<h2>Author:</h2> Palani Vigneshwar",
      "metadata": {}
    }
  ]
}